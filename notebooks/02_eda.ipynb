{
 "cells": [
  {
   "cell_type": "code",
   "execution_count": null,
   "metadata": {},
   "outputs": [],
   "source": [
    "from __future__ import annotations\n",
    "from titanic_lab.paths import (\n",
    "    ROOT,\n",
    "    TRAIN_CSV,\n",
    ")  # and whatever common files that were defined in the src/paths.py\n",
    "import pandas as pd\n",
    "import matplotlib.pyplot as plt\n",
    "import numpy as np\n"
   ]
  },
  {
   "cell_type": "code",
   "execution_count": null,
   "metadata": {},
   "outputs": [],
   "source": [
    "df = pd.read_csv(TRAIN_CSV)\n"
   ]
  },
  {
   "cell_type": "code",
   "execution_count": null,
   "metadata": {},
   "outputs": [],
   "source": [
    "print(\"Shape:\", df.shape)  # expect (891, 12)\n",
    "print(\"\\nInfo():\")\n",
    "df.info()\n"
   ]
  },
  {
   "cell_type": "code",
   "execution_count": null,
   "metadata": {},
   "outputs": [],
   "source": [
    "num_desc = df.describe()\n",
    "print(num_desc)\n"
   ]
  },
  {
   "cell_type": "code",
   "execution_count": null,
   "metadata": {},
   "outputs": [],
   "source": [
    "cat_desc = df.describe(include=[\"object\", \"category\", \"boolean\"])\n",
    "print(cat_desc)\n"
   ]
  },
  {
   "cell_type": "code",
   "execution_count": null,
   "metadata": {},
   "outputs": [],
   "source": [
    "na = df.isna().sum().sort_values(ascending=False)\n",
    "print(\"\\nMissing values per column:\")\n",
    "print(na)\n",
    "\n",
    "\n",
    "# Using the df[\"Age\"] column with the .notna() method chained to the sum method takes all of the values\n",
    "# This counts the number of non-missing values in the \"Age\" column.\n",
    "# .notna() returns a boolean Series (True for present values), and .sum() counts the Trues.\n"
   ]
  },
  {
   "cell_type": "code",
   "execution_count": null,
   "metadata": {},
   "outputs": [],
   "source": [
    "n_non_missing_age = df[\"Age\"].notna().sum()\n",
    "print(f\"\\nNon-missing Age count: {n_non_missing_age} (expect 714)\")\n",
    "\n"
   ]
  },
  {
   "cell_type": "code",
   "execution_count": null,
   "metadata": {},
   "outputs": [],
   "source": [
    "\n",
    "\n",
    "def plot_rate(series: pd.Series, title: str) -> None:\n",
    "    ax = series.sort_values(ascending=False).plot(kind=\"bar\")\n",
    "    ax.set_ylim(0, 1)\n",
    "    ax.set_ylabel(\"Survival rate\")\n",
    "    ax.set_title(title)\n",
    "    plt.tight_layout()\n",
    "    plt.show()\n",
    "\n"
   ]
  },
  {
   "cell_type": "code",
   "execution_count": null,
   "metadata": {},
   "outputs": [],
   "source": [
    "df[\"HasCabin\"] = df[\"Cabin\"].notna()\n",
    "plot_rate(df.groupby(\"HasCabin\")[\"Survived\"].mean(), \"Survival by Cabin presence\")\n"
   ]
  },
  {
   "cell_type": "code",
   "execution_count": null,
   "metadata": {},
   "outputs": [],
   "source": [
    "print(\"\\nSurvived value counts (0/1):\")\n",
    "print(df[\"Survived\"].value_counts(dropna=False).sort_index())\n"
   ]
  },
  {
   "cell_type": "code",
   "execution_count": null,
   "metadata": {},
   "outputs": [],
   "source": [
    "rate_by_sex = df.groupby(\"Sex\")[\"Survived\"].mean()\n",
    "plot_rate(rate_by_sex, \"Survival rate by Sex\")\n"
   ]
  },
  {
   "cell_type": "code",
   "execution_count": null,
   "metadata": {},
   "outputs": [],
   "source": [
    "rate_by_pclass = df.groupby(\"Pclass\")[\"Survived\"].mean()\n",
    "plot_rate(rate_by_pclass, \"Survival rate by Pclass\")\n"
   ]
  },
  {
   "cell_type": "code",
   "execution_count": null,
   "metadata": {},
   "outputs": [],
   "source": [
    "rate_by_embarked = df.groupby(\"Embarked\", dropna=False)[\"Survived\"].mean()\n",
    "plot_rate(rate_by_embarked, \"Survival rate by Embarked\")\n"
   ]
  },
  {
   "cell_type": "code",
   "execution_count": null,
   "metadata": {},
   "outputs": [],
   "source": [
    "pivot_sex_pclass = pd.pivot_table(\n",
    "    df, index=\"Sex\", columns=\"Pclass\", values=\"Survived\", aggfunc=\"mean\"\n",
    ")\n",
    "print(\"\\nPivot (Sex x Pclass) = mean survival:\")\n",
    "print(pivot_sex_pclass)\n"
   ]
  },
  {
   "cell_type": "code",
   "execution_count": null,
   "metadata": {},
   "outputs": [],
   "source": [
    "ax = pivot_sex_pclass.plot(kind=\"bar\")\n",
    "ax.set_ylim(0, 1)\n",
    "ax.set_ylabel(\"Survival rate\")\n",
    "ax.set_title(\"Survival rate by Sex and Pclass\")\n",
    "plt.legend(title=\"Pclass\")\n",
    "plt.tight_layout()\n",
    "plt.show()\n"
   ]
  },
  {
   "cell_type": "code",
   "execution_count": null,
   "metadata": {},
   "outputs": [],
   "source": [
    "# Age distribution (note: missing values exist)\n",
    "ax = df[\"Age\"].dropna().plot(kind=\"hist\", bins=30)\n",
    "ax.set_title(\"Age distribution (train)\")\n",
    "ax.set_xlabel(\"Age\")\n",
    "plt.tight_layout()\n",
    "plt.show()"
   ]
  },
  {
   "cell_type": "code",
   "execution_count": null,
   "metadata": {},
   "outputs": [],
   "source": [
    "# Fare is skewed; look at both linear and log scales\n",
    "ax = df[\"Fare\"].dropna().plot(kind=\"hist\", bins=40)\n",
    "ax.set_title(\"Fare distribution (linear scale)\")\n",
    "ax.set_xlabel(\"Fare\")\n",
    "plt.tight_layout()\n",
    "plt.show()"
   ]
  },
  {
   "cell_type": "code",
   "execution_count": null,
   "metadata": {},
   "outputs": [],
   "source": [
    "ax = df[\"Fare\"].dropna().plot(kind=\"hist\", bins=40, log=True)\n",
    "ax.set_title(\"Fare distribution (log scale)\")\n",
    "ax.set_xlabel(\"Fare\")\n",
    "plt.tight_layout()\n",
    "plt.show()"
   ]
  },
  {
   "cell_type": "code",
   "execution_count": null,
   "metadata": {},
   "outputs": [],
   "source": [
    "\n",
    "# quick sanity check on what boxplot should look like\n",
    "out = (\n",
    "    df[[\"Survived\", \"Age\"]]\n",
    "    .dropna()\n",
    "    .groupby(\"Survived\")[\"Age\"]\n",
    "    .agg(\n",
    "        median=\"median\",\n",
    "        mean=\"mean\",\n",
    "        q1=lambda s: s.quantile(0.25),\n",
    "        q3=lambda s: s.quantile(0.75),\n",
    "        n=\"size\",\n",
    "    )\n",
    ")\n",
    "print(out)\n",
    "\n",
    "fig, ax = plt.subplots(figsize=(6, 4))\n",
    "df.boxplot(column=\"Age\", by=\"Survived\", ax=ax)\n",
    "\n",
    "# Pandas adds a figure-level suptitle when you use `by=`—delete it:\n",
    "fig.suptitle(\"\")\n",
    "\n",
    "ax.set_title(\"Age by Survived\")\n",
    "ax.set_xlabel(\"Survived\")\n",
    "ax.set_ylabel(\"Age\")\n",
    "plt.tight_layout()\n",
    "plt.show()"
   ]
  },
  {
   "cell_type": "code",
   "execution_count": null,
   "metadata": {},
   "outputs": [],
   "source": [
    "\n",
    "\n",
    "out = (\n",
    "    df[[\"Survived\", \"Fare\"]]\n",
    "    .dropna()\n",
    "    .groupby(\"Survived\")[\"Fare\"]\n",
    "    .agg(\n",
    "        median=\"median\",\n",
    "        mean=\"mean\",\n",
    "        q1=lambda s: s.quantile(0.25),\n",
    "        q2=lambda s: s.quantile(0.50),\n",
    "        q3=lambda s: s.quantile(0.75),\n",
    "        n=\"size\",\n",
    "    )\n",
    ")\n",
    "print(\"Summary statistics for Fare by Survived:\")\n",
    "print()\n",
    "print(out)"
   ]
  },
  {
   "cell_type": "code",
   "execution_count": null,
   "metadata": {},
   "outputs": [],
   "source": [
    "fig, ax = plt.subplots(figsize=(6, 4))\n",
    "df.boxplot(column=\"Fare\", by=\"Survived\", ax=ax)\n",
    "ax.set_title(\"Fare by Survived\")\n",
    "ax.set_xlabel(\"Survived\")\n",
    "ax.set_ylabel(\"Fare\")\n",
    "fig.suptitle(\"\")  # remove automatic suptitle\n",
    "plt.tight_layout()\n",
    "plt.show()\n"
   ]
  },
  {
   "cell_type": "code",
   "execution_count": null,
   "metadata": {},
   "outputs": [],
   "source": [
    "fig, ax = plt.subplots(figsize=(6, 4))\n",
    "df.boxplot(column=\"Fare\", by=\"Survived\", ax=ax)\n",
    "ax.set_yscale(\"log\")  # <- log axis\n",
    "ax.set_title(\"Fare by Survived (log scale)\")\n",
    "ax.set_xlabel(\"Survived\")\n",
    "ax.set_ylabel(\"Fare (log scale)\")\n",
    "fig.suptitle(\"\")\n",
    "plt.tight_layout()\n",
    "plt.show()\n",
    "\n"
   ]
  },
  {
   "cell_type": "code",
   "execution_count": null,
   "metadata": {},
   "outputs": [],
   "source": [
    "\n",
    "df2 = df.copy()\n",
    "df2[\"Fare_log1p\"] = np.log1p(df2[\"Fare\"].clip(lower=0))  # guard against tiny negatives\n",
    "\n",
    "fig, ax = plt.subplots(figsize=(6, 4))\n",
    "df2.boxplot(column=\"Fare_log1p\", by=\"Survived\", ax=ax)\n",
    "ax.set_title(\"log1p(Fare) by Survived\")\n",
    "ax.set_xlabel(\"Survived\")\n",
    "ax.set_ylabel(\"log1p(Fare)\")\n",
    "fig.suptitle(\"\")\n",
    "plt.tight_layout()\n",
    "plt.show()\n"
   ]
  },
  {
   "cell_type": "code",
   "execution_count": null,
   "metadata": {},
   "outputs": [],
   "source": [
    "# %% boxplot for Fare w/ log scle"
   ]
  },
  {
   "cell_type": "code",
   "execution_count": null,
   "metadata": {},
   "outputs": [],
   "source": [
    "\n",
    "\n",
    "def outlier_stats(df, value_col=\"Fare\", group_col=\"Survived\"):\n",
    "    rows = []\n",
    "    for g, s in df[[group_col, value_col]].dropna().groupby(group_col)[value_col]:\n",
    "        s = s.astype(float)\n",
    "        q1, q3 = s.quantile([0.25, 0.75])\n",
    "        iqr = q3 - q1\n",
    "        low_fence = q1 - 1.5 * iqr\n",
    "        high_fence = q3 + 1.5 * iqr\n",
    "\n",
    "        n = len(s)\n",
    "        n_low = int((s < low_fence).sum())\n",
    "        n_high = int((s > high_fence).sum())\n",
    "        n_out = n_low + n_high\n",
    "\n",
    "        rows.append(\n",
    "            {\n",
    "                group_col: g,\n",
    "                \"n\": n,\n",
    "                \"q1\": q1,\n",
    "                \"median\": s.median(),\n",
    "                \"q3\": q3,\n",
    "                \"iqr\": iqr,\n",
    "                \"low_fence\": low_fence,\n",
    "                \"high_fence\": high_fence,\n",
    "                # counts\n",
    "                \"n_outliers_low\": n_low,\n",
    "                \"n_outliers_high\": n_high,\n",
    "                \"n_outliers_total\": n_out,\n",
    "                # percentages\n",
    "                \"pct_in_box\": s.between(q1, q3).mean(),  # ~0.50 by definition\n",
    "                \"pct_outliers_low\": n_low / n,\n",
    "                \"pct_outliers_high\": n_high / n,\n",
    "                \"pct_outliers_total\": n_out / n,\n",
    "                # optional: make counts comparable per-100 passengers\n",
    "                \"outliers_high_per_100\": 100 * n_high / n,\n",
    "            }\n",
    "        )\n",
    "    cols_order = [\n",
    "        group_col,\n",
    "        \"n\",\n",
    "        \"q1\",\n",
    "        \"median\",\n",
    "        \"q3\",\n",
    "        \"iqr\",\n",
    "        \"low_fence\",\n",
    "        \"high_fence\",\n",
    "        \"n_outliers_low\",\n",
    "        \"n_outliers_high\",\n",
    "        \"n_outliers_total\",\n",
    "        \"pct_in_box\",\n",
    "        \"pct_outliers_low\",\n",
    "        \"pct_outliers_high\",\n",
    "        \"pct_outliers_total\",\n",
    "        \"outliers_high_per_100\",\n",
    "    ]\n",
    "    return pd.DataFrame(rows)[cols_order]\n",
    "\n",
    "\n",
    "out = outlier_stats(df, \"Fare\", \"Survived\")\n",
    "print(\n",
    "    out.assign(\n",
    "        pct_in_box=lambda d: d.pct_in_box.round(3),\n",
    "        pct_outliers_low=lambda d: d.pct_outliers_low.round(3),\n",
    "        pct_outliers_high=lambda d: d.pct_outliers_high.round(3),\n",
    "        pct_outliers_total=lambda d: d.pct_outliers_total.round(3),\n",
    "        outliers_high_per_100=lambda d: d.outliers_high_per_100.round(1),\n",
    "    ).round(2)\n",
    ")\n",
    "\n"
   ]
  },
  {
   "cell_type": "code",
   "execution_count": null,
   "metadata": {},
   "outputs": [],
   "source": [
    "df[\"FamilySize\"] = df[\"SibSp\"] + df[\"Parch\"] + 1\n",
    "df[\"FamilyBin\"] = pd.cut(\n",
    "    df[\"FamilySize\"], bins=[0, 1, 2, 4, 8, 20], labels=[\"1\", \"2\", \"3-4\", \"5-8\", \"9+\"]\n",
    ")\n",
    "plot_rate(df.groupby(\"FamilyBin\")[\"Survived\"].mean(), \"Survival by Family size\")\n"
   ]
  },
  {
   "cell_type": "code",
   "execution_count": null,
   "metadata": {},
   "outputs": [],
   "source": [
    "OUT = ROOT / \"outputs\" / \"eda\"\n",
    "OUT.mkdir(parents=True, exist_ok=True)\n",
    "pivot_sex_pclass.to_csv(OUT / \"pivot_sex_pclass.csv\", index=True)\n",
    "na.to_csv(OUT / \"missingness.csv\", header=[\"n_missing\"])\n",
    "print(f\"\\nSaved pivot and missingness tables to {OUT}\")\n"
   ]
  }
 ],
 "metadata": {
  "language_info": {
   "codemirror_mode": {
    "name": "ipython",
    "version": 3
   },
   "file_extension": ".py",
   "mimetype": "text/x-python",
   "name": "python",
   "nbconvert_exporter": "python",
   "pygments_lexer": "ipython3",
   "version": 3
  }
 },
 "nbformat": 4,
 "nbformat_minor": 2
}
