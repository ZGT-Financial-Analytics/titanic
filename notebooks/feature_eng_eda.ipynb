{
 "cells": [
  {
   "cell_type": "code",
   "execution_count": null,
   "id": "03582088",
   "metadata": {},
   "outputs": [],
   "source": [
    "def make_sheep(name, color=\"white\"):\n",
    "    \"\"\"\n",
    "    Create a dictionary representing a sheep.\n",
    "\n",
    "    Args:\n",
    "      name (str): The name of the sheep.\n",
    "      color (str): The color of the sheep. Default is \"white\".\n",
    "\n",
    "    Returns:\n",
    "      dict: A dictionary with sheep attributes.\n",
    "    \"\"\"\n",
    "    return {\"species\": \"sheep\", \"name\": name, \"color\": color}"
   ]
  }
 ],
 "metadata": {
  "language_info": {
   "name": "python"
  }
 },
 "nbformat": 4,
 "nbformat_minor": 5
}
